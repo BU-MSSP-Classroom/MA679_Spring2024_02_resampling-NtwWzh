{
 "cells": [
  {
   "cell_type": "markdown",
   "id": "ac385101",
   "metadata": {},
   "source": [
    "# Class Workbook"
   ]
  },
  {
   "cell_type": "markdown",
   "id": "7d865134",
   "metadata": {},
   "source": [
    "## In class activity"
   ]
  },
  {
   "cell_type": "code",
   "execution_count": 7,
   "id": "027efaee",
   "metadata": {},
   "outputs": [
    {
     "name": "stdout",
     "output_type": "stream",
     "text": [
      "Requirement already satisfied: ISLP in /Users/julie/opt/anaconda3/lib/python3.8/site-packages (0.3.18)\n",
      "Requirement already satisfied: numpy>=1.7.1 in /Users/julie/opt/anaconda3/lib/python3.8/site-packages (from ISLP) (1.24.4)\n",
      "Requirement already satisfied: scipy>=0.9 in /Users/julie/opt/anaconda3/lib/python3.8/site-packages (from ISLP) (1.10.1)\n",
      "Requirement already satisfied: matplotlib>=3.3.3 in /Users/julie/opt/anaconda3/lib/python3.8/site-packages (from ISLP) (3.7.4)\n",
      "Requirement already satisfied: pandas>=0.20 in /Users/julie/opt/anaconda3/lib/python3.8/site-packages (from ISLP) (2.0.3)\n",
      "Requirement already satisfied: statsmodels>=0.13 in /Users/julie/opt/anaconda3/lib/python3.8/site-packages (from ISLP) (0.14.1)\n",
      "Requirement already satisfied: scikit-learn>=1.2 in /Users/julie/opt/anaconda3/lib/python3.8/site-packages (from ISLP) (1.3.2)\n",
      "Requirement already satisfied: jupyter>=0.0 in /Users/julie/opt/anaconda3/lib/python3.8/site-packages (from ISLP) (1.0.0)\n",
      "Requirement already satisfied: lxml>=0.0 in /Users/julie/opt/anaconda3/lib/python3.8/site-packages (from ISLP) (4.9.3)\n",
      "Requirement already satisfied: joblib>=0.0 in /Users/julie/opt/anaconda3/lib/python3.8/site-packages (from ISLP) (1.2.0)\n",
      "Requirement already satisfied: pygam>=0.0 in /Users/julie/opt/anaconda3/lib/python3.8/site-packages (from ISLP) (0.9.0)\n",
      "Requirement already satisfied: lifelines>=0.0 in /Users/julie/opt/anaconda3/lib/python3.8/site-packages (from ISLP) (0.27.8)\n",
      "Requirement already satisfied: notebook in /Users/julie/opt/anaconda3/lib/python3.8/site-packages (from jupyter>=0.0->ISLP) (7.0.6)\n",
      "Requirement already satisfied: qtconsole in /Users/julie/opt/anaconda3/lib/python3.8/site-packages (from jupyter>=0.0->ISLP) (5.5.0)\n",
      "Requirement already satisfied: jupyter-console in /Users/julie/opt/anaconda3/lib/python3.8/site-packages (from jupyter>=0.0->ISLP) (6.6.3)\n",
      "Requirement already satisfied: nbconvert in /Users/julie/opt/anaconda3/lib/python3.8/site-packages (from jupyter>=0.0->ISLP) (7.10.0)\n",
      "Requirement already satisfied: ipykernel in /Users/julie/opt/anaconda3/lib/python3.8/site-packages (from jupyter>=0.0->ISLP) (6.25.0)\n",
      "Requirement already satisfied: ipywidgets in /Users/julie/opt/anaconda3/lib/python3.8/site-packages (from jupyter>=0.0->ISLP) (8.0.4)\n",
      "Requirement already satisfied: autograd>=1.5 in /Users/julie/opt/anaconda3/lib/python3.8/site-packages (from lifelines>=0.0->ISLP) (1.6.2)\n",
      "Requirement already satisfied: autograd-gamma>=0.3 in /Users/julie/opt/anaconda3/lib/python3.8/site-packages (from lifelines>=0.0->ISLP) (0.5.0)\n",
      "Requirement already satisfied: formulaic>=0.2.2 in /Users/julie/opt/anaconda3/lib/python3.8/site-packages (from lifelines>=0.0->ISLP) (1.0.1)\n",
      "Requirement already satisfied: contourpy>=1.0.1 in /Users/julie/opt/anaconda3/lib/python3.8/site-packages (from matplotlib>=3.3.3->ISLP) (1.1.1)\n",
      "Requirement already satisfied: cycler>=0.10 in /Users/julie/opt/anaconda3/lib/python3.8/site-packages (from matplotlib>=3.3.3->ISLP) (0.11.0)\n",
      "Requirement already satisfied: fonttools>=4.22.0 in /Users/julie/opt/anaconda3/lib/python3.8/site-packages (from matplotlib>=3.3.3->ISLP) (4.47.2)\n",
      "Requirement already satisfied: kiwisolver>=1.0.1 in /Users/julie/opt/anaconda3/lib/python3.8/site-packages (from matplotlib>=3.3.3->ISLP) (1.4.4)\n",
      "Requirement already satisfied: packaging>=20.0 in /Users/julie/opt/anaconda3/lib/python3.8/site-packages (from matplotlib>=3.3.3->ISLP) (23.1)\n",
      "Requirement already satisfied: pillow>=6.2.0 in /Users/julie/opt/anaconda3/lib/python3.8/site-packages (from matplotlib>=3.3.3->ISLP) (10.0.1)\n",
      "Requirement already satisfied: pyparsing>=2.3.1 in /Users/julie/opt/anaconda3/lib/python3.8/site-packages (from matplotlib>=3.3.3->ISLP) (3.0.9)\n",
      "Requirement already satisfied: python-dateutil>=2.7 in /Users/julie/opt/anaconda3/lib/python3.8/site-packages (from matplotlib>=3.3.3->ISLP) (2.8.2)\n",
      "Requirement already satisfied: importlib-resources>=3.2.0 in /Users/julie/opt/anaconda3/lib/python3.8/site-packages (from matplotlib>=3.3.3->ISLP) (6.1.1)\n",
      "Requirement already satisfied: pytz>=2020.1 in /Users/julie/opt/anaconda3/lib/python3.8/site-packages (from pandas>=0.20->ISLP) (2023.3.post1)\n",
      "Requirement already satisfied: tzdata>=2022.1 in /Users/julie/opt/anaconda3/lib/python3.8/site-packages (from pandas>=0.20->ISLP) (2023.4)\n",
      "Requirement already satisfied: progressbar2<5.0.0,>=4.2.0 in /Users/julie/opt/anaconda3/lib/python3.8/site-packages (from pygam>=0.0->ISLP) (4.3.2)\n",
      "Requirement already satisfied: threadpoolctl>=2.0.0 in /Users/julie/opt/anaconda3/lib/python3.8/site-packages (from scikit-learn>=1.2->ISLP) (2.2.0)\n",
      "Requirement already satisfied: patsy>=0.5.4 in /Users/julie/opt/anaconda3/lib/python3.8/site-packages (from statsmodels>=0.13->ISLP) (0.5.6)\n",
      "Requirement already satisfied: future>=0.15.2 in /Users/julie/opt/anaconda3/lib/python3.8/site-packages (from autograd>=1.5->lifelines>=0.0->ISLP) (0.18.3)\n",
      "Requirement already satisfied: astor>=0.8 in /Users/julie/opt/anaconda3/lib/python3.8/site-packages (from formulaic>=0.2.2->lifelines>=0.0->ISLP) (0.8.1)\n",
      "Requirement already satisfied: graphlib-backport>=1.0.0 in /Users/julie/opt/anaconda3/lib/python3.8/site-packages (from formulaic>=0.2.2->lifelines>=0.0->ISLP) (1.0.3)\n",
      "Requirement already satisfied: interface-meta>=1.2.0 in /Users/julie/opt/anaconda3/lib/python3.8/site-packages (from formulaic>=0.2.2->lifelines>=0.0->ISLP) (1.3.0)\n",
      "Requirement already satisfied: typing-extensions>=4.2.0 in /Users/julie/opt/anaconda3/lib/python3.8/site-packages (from formulaic>=0.2.2->lifelines>=0.0->ISLP) (4.9.0)\n",
      "Requirement already satisfied: wrapt>=1.0 in /Users/julie/opt/anaconda3/lib/python3.8/site-packages (from formulaic>=0.2.2->lifelines>=0.0->ISLP) (1.14.1)\n",
      "Requirement already satisfied: zipp>=3.1.0 in /Users/julie/opt/anaconda3/lib/python3.8/site-packages (from importlib-resources>=3.2.0->matplotlib>=3.3.3->ISLP) (3.17.0)\n",
      "Requirement already satisfied: six in /Users/julie/opt/anaconda3/lib/python3.8/site-packages (from patsy>=0.5.4->statsmodels>=0.13->ISLP) (1.16.0)\n",
      "Requirement already satisfied: python-utils>=3.8.1 in /Users/julie/opt/anaconda3/lib/python3.8/site-packages (from progressbar2<5.0.0,>=4.2.0->pygam>=0.0->ISLP) (3.8.1)\n",
      "Requirement already satisfied: appnope in /Users/julie/opt/anaconda3/lib/python3.8/site-packages (from ipykernel->jupyter>=0.0->ISLP) (0.1.2)\n",
      "Requirement already satisfied: comm>=0.1.1 in /Users/julie/opt/anaconda3/lib/python3.8/site-packages (from ipykernel->jupyter>=0.0->ISLP) (0.1.2)\n",
      "Requirement already satisfied: debugpy>=1.6.5 in /Users/julie/opt/anaconda3/lib/python3.8/site-packages (from ipykernel->jupyter>=0.0->ISLP) (1.6.7)\n",
      "Requirement already satisfied: ipython>=7.23.1 in /Users/julie/opt/anaconda3/lib/python3.8/site-packages (from ipykernel->jupyter>=0.0->ISLP) (8.12.2)\n",
      "Requirement already satisfied: jupyter-client>=6.1.12 in /Users/julie/opt/anaconda3/lib/python3.8/site-packages (from ipykernel->jupyter>=0.0->ISLP) (8.6.0)\n",
      "Requirement already satisfied: jupyter-core!=5.0.*,>=4.12 in /Users/julie/opt/anaconda3/lib/python3.8/site-packages (from ipykernel->jupyter>=0.0->ISLP) (5.5.0)\n",
      "Requirement already satisfied: matplotlib-inline>=0.1 in /Users/julie/opt/anaconda3/lib/python3.8/site-packages (from ipykernel->jupyter>=0.0->ISLP) (0.1.6)\n",
      "Requirement already satisfied: nest-asyncio in /Users/julie/opt/anaconda3/lib/python3.8/site-packages (from ipykernel->jupyter>=0.0->ISLP) (1.5.6)\n",
      "Requirement already satisfied: psutil in /Users/julie/opt/anaconda3/lib/python3.8/site-packages (from ipykernel->jupyter>=0.0->ISLP) (5.9.0)\n",
      "Requirement already satisfied: pyzmq>=20 in /Users/julie/opt/anaconda3/lib/python3.8/site-packages (from ipykernel->jupyter>=0.0->ISLP) (25.1.2)\n",
      "Requirement already satisfied: tornado>=6.1 in /Users/julie/opt/anaconda3/lib/python3.8/site-packages (from ipykernel->jupyter>=0.0->ISLP) (6.3.3)\n",
      "Requirement already satisfied: traitlets>=5.4.0 in /Users/julie/opt/anaconda3/lib/python3.8/site-packages (from ipykernel->jupyter>=0.0->ISLP) (5.7.1)\n",
      "Requirement already satisfied: widgetsnbextension~=4.0 in /Users/julie/opt/anaconda3/lib/python3.8/site-packages (from ipywidgets->jupyter>=0.0->ISLP) (4.0.5)\n",
      "Requirement already satisfied: jupyterlab-widgets~=3.0 in /Users/julie/opt/anaconda3/lib/python3.8/site-packages (from ipywidgets->jupyter>=0.0->ISLP) (3.0.9)\n",
      "Requirement already satisfied: prompt-toolkit>=3.0.30 in /Users/julie/opt/anaconda3/lib/python3.8/site-packages (from jupyter-console->jupyter>=0.0->ISLP) (3.0.43)\n",
      "Requirement already satisfied: pygments in /Users/julie/opt/anaconda3/lib/python3.8/site-packages (from jupyter-console->jupyter>=0.0->ISLP) (2.15.1)\n",
      "Requirement already satisfied: beautifulsoup4 in /Users/julie/opt/anaconda3/lib/python3.8/site-packages (from nbconvert->jupyter>=0.0->ISLP) (4.12.2)\n",
      "Requirement already satisfied: bleach!=5.0.0 in /Users/julie/opt/anaconda3/lib/python3.8/site-packages (from nbconvert->jupyter>=0.0->ISLP) (4.1.0)\n",
      "Requirement already satisfied: defusedxml in /Users/julie/opt/anaconda3/lib/python3.8/site-packages (from nbconvert->jupyter>=0.0->ISLP) (0.7.1)\n",
      "Requirement already satisfied: importlib-metadata>=3.6 in /Users/julie/opt/anaconda3/lib/python3.8/site-packages (from nbconvert->jupyter>=0.0->ISLP) (7.0.1)\n",
      "Requirement already satisfied: jinja2>=3.0 in /Users/julie/opt/anaconda3/lib/python3.8/site-packages (from nbconvert->jupyter>=0.0->ISLP) (3.1.2)\n",
      "Requirement already satisfied: jupyterlab-pygments in /Users/julie/opt/anaconda3/lib/python3.8/site-packages (from nbconvert->jupyter>=0.0->ISLP) (0.1.2)\n",
      "Requirement already satisfied: markupsafe>=2.0 in /Users/julie/opt/anaconda3/lib/python3.8/site-packages (from nbconvert->jupyter>=0.0->ISLP) (2.1.3)\n",
      "Requirement already satisfied: mistune<4,>=2.0.3 in /Users/julie/opt/anaconda3/lib/python3.8/site-packages (from nbconvert->jupyter>=0.0->ISLP) (2.0.4)\n",
      "Requirement already satisfied: nbclient>=0.5.0 in /Users/julie/opt/anaconda3/lib/python3.8/site-packages (from nbconvert->jupyter>=0.0->ISLP) (0.8.0)\n",
      "Requirement already satisfied: nbformat>=5.7 in /Users/julie/opt/anaconda3/lib/python3.8/site-packages (from nbconvert->jupyter>=0.0->ISLP) (5.9.2)\n",
      "Requirement already satisfied: pandocfilters>=1.4.1 in /Users/julie/opt/anaconda3/lib/python3.8/site-packages (from nbconvert->jupyter>=0.0->ISLP) (1.5.0)\n",
      "Requirement already satisfied: tinycss2 in /Users/julie/opt/anaconda3/lib/python3.8/site-packages (from nbconvert->jupyter>=0.0->ISLP) (1.2.1)\n",
      "Requirement already satisfied: jupyter-server<3,>=2.4.0 in /Users/julie/opt/anaconda3/lib/python3.8/site-packages (from notebook->jupyter>=0.0->ISLP) (2.10.0)\n",
      "Requirement already satisfied: jupyterlab-server<3,>=2.22.1 in /Users/julie/opt/anaconda3/lib/python3.8/site-packages (from notebook->jupyter>=0.0->ISLP) (2.25.1)\n",
      "Requirement already satisfied: jupyterlab<5,>=4.0.2 in /Users/julie/opt/anaconda3/lib/python3.8/site-packages (from notebook->jupyter>=0.0->ISLP) (4.0.8)\n",
      "Requirement already satisfied: notebook-shim<0.3,>=0.2 in /Users/julie/opt/anaconda3/lib/python3.8/site-packages (from notebook->jupyter>=0.0->ISLP) (0.2.3)\n",
      "Requirement already satisfied: qtpy>=2.4.0 in /Users/julie/opt/anaconda3/lib/python3.8/site-packages (from qtconsole->jupyter>=0.0->ISLP) (2.4.1)\n",
      "Requirement already satisfied: webencodings in /Users/julie/opt/anaconda3/lib/python3.8/site-packages (from bleach!=5.0.0->nbconvert->jupyter>=0.0->ISLP) (0.5.1)\n",
      "Requirement already satisfied: backcall in /Users/julie/opt/anaconda3/lib/python3.8/site-packages (from ipython>=7.23.1->ipykernel->jupyter>=0.0->ISLP) (0.2.0)\n",
      "Requirement already satisfied: decorator in /Users/julie/opt/anaconda3/lib/python3.8/site-packages (from ipython>=7.23.1->ipykernel->jupyter>=0.0->ISLP) (5.1.1)\n",
      "Requirement already satisfied: jedi>=0.16 in /Users/julie/opt/anaconda3/lib/python3.8/site-packages (from ipython>=7.23.1->ipykernel->jupyter>=0.0->ISLP) (0.17.2)\n",
      "Requirement already satisfied: pickleshare in /Users/julie/opt/anaconda3/lib/python3.8/site-packages (from ipython>=7.23.1->ipykernel->jupyter>=0.0->ISLP) (0.7.5)\n",
      "Requirement already satisfied: stack-data in /Users/julie/opt/anaconda3/lib/python3.8/site-packages (from ipython>=7.23.1->ipykernel->jupyter>=0.0->ISLP) (0.2.0)\n",
      "Requirement already satisfied: pexpect>4.3 in /Users/julie/opt/anaconda3/lib/python3.8/site-packages (from ipython>=7.23.1->ipykernel->jupyter>=0.0->ISLP) (4.8.0)\n",
      "Requirement already satisfied: platformdirs>=2.5 in /Users/julie/opt/anaconda3/lib/python3.8/site-packages (from jupyter-core!=5.0.*,>=4.12->ipykernel->jupyter>=0.0->ISLP) (3.10.0)\n",
      "Requirement already satisfied: anyio>=3.1.0 in /Users/julie/opt/anaconda3/lib/python3.8/site-packages (from jupyter-server<3,>=2.4.0->notebook->jupyter>=0.0->ISLP) (3.5.0)\n",
      "Requirement already satisfied: argon2-cffi in /Users/julie/opt/anaconda3/lib/python3.8/site-packages (from jupyter-server<3,>=2.4.0->notebook->jupyter>=0.0->ISLP) (21.3.0)\n",
      "Requirement already satisfied: jupyter-events>=0.6.0 in /Users/julie/opt/anaconda3/lib/python3.8/site-packages (from jupyter-server<3,>=2.4.0->notebook->jupyter>=0.0->ISLP) (0.8.0)\n",
      "Requirement already satisfied: jupyter-server-terminals in /Users/julie/opt/anaconda3/lib/python3.8/site-packages (from jupyter-server<3,>=2.4.0->notebook->jupyter>=0.0->ISLP) (0.4.4)\n",
      "Requirement already satisfied: overrides in /Users/julie/opt/anaconda3/lib/python3.8/site-packages (from jupyter-server<3,>=2.4.0->notebook->jupyter>=0.0->ISLP) (7.4.0)\n",
      "Requirement already satisfied: prometheus-client in /Users/julie/opt/anaconda3/lib/python3.8/site-packages (from jupyter-server<3,>=2.4.0->notebook->jupyter>=0.0->ISLP) (0.14.1)\n",
      "Requirement already satisfied: send2trash>=1.8.2 in /Users/julie/opt/anaconda3/lib/python3.8/site-packages (from jupyter-server<3,>=2.4.0->notebook->jupyter>=0.0->ISLP) (1.8.2)\n",
      "Requirement already satisfied: terminado>=0.8.3 in /Users/julie/opt/anaconda3/lib/python3.8/site-packages (from jupyter-server<3,>=2.4.0->notebook->jupyter>=0.0->ISLP) (0.17.1)\n",
      "Requirement already satisfied: websocket-client in /Users/julie/opt/anaconda3/lib/python3.8/site-packages (from jupyter-server<3,>=2.4.0->notebook->jupyter>=0.0->ISLP) (0.58.0)\n",
      "Requirement already satisfied: async-lru>=1.0.0 in /Users/julie/opt/anaconda3/lib/python3.8/site-packages (from jupyterlab<5,>=4.0.2->notebook->jupyter>=0.0->ISLP) (2.0.4)\n",
      "Requirement already satisfied: jupyter-lsp>=2.0.0 in /Users/julie/opt/anaconda3/lib/python3.8/site-packages (from jupyterlab<5,>=4.0.2->notebook->jupyter>=0.0->ISLP) (2.2.0)\n",
      "Requirement already satisfied: tomli in /Users/julie/opt/anaconda3/lib/python3.8/site-packages (from jupyterlab<5,>=4.0.2->notebook->jupyter>=0.0->ISLP) (2.0.1)\n",
      "Requirement already satisfied: babel>=2.10 in /Users/julie/opt/anaconda3/lib/python3.8/site-packages (from jupyterlab-server<3,>=2.22.1->notebook->jupyter>=0.0->ISLP) (2.11.0)\n",
      "Requirement already satisfied: json5>=0.9.0 in /Users/julie/opt/anaconda3/lib/python3.8/site-packages (from jupyterlab-server<3,>=2.22.1->notebook->jupyter>=0.0->ISLP) (0.9.6)\n",
      "Requirement already satisfied: jsonschema>=4.18.0 in /Users/julie/opt/anaconda3/lib/python3.8/site-packages (from jupyterlab-server<3,>=2.22.1->notebook->jupyter>=0.0->ISLP) (4.19.2)\n",
      "Requirement already satisfied: requests>=2.31 in /Users/julie/opt/anaconda3/lib/python3.8/site-packages (from jupyterlab-server<3,>=2.22.1->notebook->jupyter>=0.0->ISLP) (2.31.0)\n",
      "Requirement already satisfied: fastjsonschema in /Users/julie/opt/anaconda3/lib/python3.8/site-packages (from nbformat>=5.7->nbconvert->jupyter>=0.0->ISLP) (2.16.2)\n",
      "Requirement already satisfied: wcwidth in /Users/julie/opt/anaconda3/lib/python3.8/site-packages (from prompt-toolkit>=3.0.30->jupyter-console->jupyter>=0.0->ISLP) (0.2.5)\n",
      "Requirement already satisfied: soupsieve>1.2 in /Users/julie/opt/anaconda3/lib/python3.8/site-packages (from beautifulsoup4->nbconvert->jupyter>=0.0->ISLP) (2.5)\n",
      "Requirement already satisfied: idna>=2.8 in /Users/julie/opt/anaconda3/lib/python3.8/site-packages (from anyio>=3.1.0->jupyter-server<3,>=2.4.0->notebook->jupyter>=0.0->ISLP) (3.4)\n",
      "Requirement already satisfied: sniffio>=1.1 in /Users/julie/opt/anaconda3/lib/python3.8/site-packages (from anyio>=3.1.0->jupyter-server<3,>=2.4.0->notebook->jupyter>=0.0->ISLP) (1.3.0)\n",
      "Requirement already satisfied: parso<0.8.0,>=0.7.0 in /Users/julie/opt/anaconda3/lib/python3.8/site-packages (from jedi>=0.16->ipython>=7.23.1->ipykernel->jupyter>=0.0->ISLP) (0.7.0)\n",
      "Requirement already satisfied: attrs>=22.2.0 in /Users/julie/opt/anaconda3/lib/python3.8/site-packages (from jsonschema>=4.18.0->jupyterlab-server<3,>=2.22.1->notebook->jupyter>=0.0->ISLP) (23.1.0)\n",
      "Requirement already satisfied: jsonschema-specifications>=2023.03.6 in /Users/julie/opt/anaconda3/lib/python3.8/site-packages (from jsonschema>=4.18.0->jupyterlab-server<3,>=2.22.1->notebook->jupyter>=0.0->ISLP) (2023.7.1)\n",
      "Requirement already satisfied: pkgutil-resolve-name>=1.3.10 in /Users/julie/opt/anaconda3/lib/python3.8/site-packages (from jsonschema>=4.18.0->jupyterlab-server<3,>=2.22.1->notebook->jupyter>=0.0->ISLP) (1.3.10)\n",
      "Requirement already satisfied: referencing>=0.28.4 in /Users/julie/opt/anaconda3/lib/python3.8/site-packages (from jsonschema>=4.18.0->jupyterlab-server<3,>=2.22.1->notebook->jupyter>=0.0->ISLP) (0.30.2)\n",
      "Requirement already satisfied: rpds-py>=0.7.1 in /Users/julie/opt/anaconda3/lib/python3.8/site-packages (from jsonschema>=4.18.0->jupyterlab-server<3,>=2.22.1->notebook->jupyter>=0.0->ISLP) (0.10.6)\n",
      "Requirement already satisfied: python-json-logger>=2.0.4 in /Users/julie/opt/anaconda3/lib/python3.8/site-packages (from jupyter-events>=0.6.0->jupyter-server<3,>=2.4.0->notebook->jupyter>=0.0->ISLP) (2.0.7)\n",
      "Requirement already satisfied: pyyaml>=5.3 in /Users/julie/opt/anaconda3/lib/python3.8/site-packages (from jupyter-events>=0.6.0->jupyter-server<3,>=2.4.0->notebook->jupyter>=0.0->ISLP) (6.0.1)\n",
      "Requirement already satisfied: rfc3339-validator in /Users/julie/opt/anaconda3/lib/python3.8/site-packages (from jupyter-events>=0.6.0->jupyter-server<3,>=2.4.0->notebook->jupyter>=0.0->ISLP) (0.1.4)\n",
      "Requirement already satisfied: rfc3986-validator>=0.1.1 in /Users/julie/opt/anaconda3/lib/python3.8/site-packages (from jupyter-events>=0.6.0->jupyter-server<3,>=2.4.0->notebook->jupyter>=0.0->ISLP) (0.1.1)\n",
      "Requirement already satisfied: ptyprocess>=0.5 in /Users/julie/opt/anaconda3/lib/python3.8/site-packages (from pexpect>4.3->ipython>=7.23.1->ipykernel->jupyter>=0.0->ISLP) (0.7.0)\n",
      "Requirement already satisfied: charset-normalizer<4,>=2 in /Users/julie/opt/anaconda3/lib/python3.8/site-packages (from requests>=2.31->jupyterlab-server<3,>=2.22.1->notebook->jupyter>=0.0->ISLP) (2.0.4)\n",
      "Requirement already satisfied: urllib3<3,>=1.21.1 in /Users/julie/opt/anaconda3/lib/python3.8/site-packages (from requests>=2.31->jupyterlab-server<3,>=2.22.1->notebook->jupyter>=0.0->ISLP) (1.26.18)\n",
      "Requirement already satisfied: certifi>=2017.4.17 in /Users/julie/opt/anaconda3/lib/python3.8/site-packages (from requests>=2.31->jupyterlab-server<3,>=2.22.1->notebook->jupyter>=0.0->ISLP) (2023.11.17)\n",
      "Requirement already satisfied: argon2-cffi-bindings in /Users/julie/opt/anaconda3/lib/python3.8/site-packages (from argon2-cffi->jupyter-server<3,>=2.4.0->notebook->jupyter>=0.0->ISLP) (21.2.0)\n",
      "Requirement already satisfied: executing in /Users/julie/opt/anaconda3/lib/python3.8/site-packages (from stack-data->ipython>=7.23.1->ipykernel->jupyter>=0.0->ISLP) (0.8.3)\n",
      "Requirement already satisfied: asttokens in /Users/julie/opt/anaconda3/lib/python3.8/site-packages (from stack-data->ipython>=7.23.1->ipykernel->jupyter>=0.0->ISLP) (2.0.5)\n",
      "Requirement already satisfied: pure-eval in /Users/julie/opt/anaconda3/lib/python3.8/site-packages (from stack-data->ipython>=7.23.1->ipykernel->jupyter>=0.0->ISLP) (0.2.2)\n",
      "Requirement already satisfied: fqdn in /Users/julie/opt/anaconda3/lib/python3.8/site-packages (from jsonschema[format-nongpl]>=4.18.0->jupyter-events>=0.6.0->jupyter-server<3,>=2.4.0->notebook->jupyter>=0.0->ISLP) (1.5.1)\n",
      "Requirement already satisfied: isoduration in /Users/julie/opt/anaconda3/lib/python3.8/site-packages (from jsonschema[format-nongpl]>=4.18.0->jupyter-events>=0.6.0->jupyter-server<3,>=2.4.0->notebook->jupyter>=0.0->ISLP) (20.11.0)\n",
      "Requirement already satisfied: jsonpointer>1.13 in /Users/julie/opt/anaconda3/lib/python3.8/site-packages (from jsonschema[format-nongpl]>=4.18.0->jupyter-events>=0.6.0->jupyter-server<3,>=2.4.0->notebook->jupyter>=0.0->ISLP) (2.1)\n",
      "Requirement already satisfied: uri-template in /Users/julie/opt/anaconda3/lib/python3.8/site-packages (from jsonschema[format-nongpl]>=4.18.0->jupyter-events>=0.6.0->jupyter-server<3,>=2.4.0->notebook->jupyter>=0.0->ISLP) (1.3.0)\n",
      "Requirement already satisfied: webcolors>=1.11 in /Users/julie/opt/anaconda3/lib/python3.8/site-packages (from jsonschema[format-nongpl]>=4.18.0->jupyter-events>=0.6.0->jupyter-server<3,>=2.4.0->notebook->jupyter>=0.0->ISLP) (1.13)\n",
      "Requirement already satisfied: cffi>=1.0.1 in /Users/julie/opt/anaconda3/lib/python3.8/site-packages (from argon2-cffi-bindings->argon2-cffi->jupyter-server<3,>=2.4.0->notebook->jupyter>=0.0->ISLP) (1.16.0)\n",
      "Requirement already satisfied: pycparser in /Users/julie/opt/anaconda3/lib/python3.8/site-packages (from cffi>=1.0.1->argon2-cffi-bindings->argon2-cffi->jupyter-server<3,>=2.4.0->notebook->jupyter>=0.0->ISLP) (2.21)\n",
      "Requirement already satisfied: arrow>=0.15.0 in /Users/julie/opt/anaconda3/lib/python3.8/site-packages (from isoduration->jsonschema[format-nongpl]>=4.18.0->jupyter-events>=0.6.0->jupyter-server<3,>=2.4.0->notebook->jupyter>=0.0->ISLP) (1.2.3)\n",
      "Note: you may need to restart the kernel to use updated packages.\n"
     ]
    }
   ],
   "source": [
    "pip install ISLP"
   ]
  },
  {
   "cell_type": "code",
   "execution_count": 1,
   "id": "194cc60b",
   "metadata": {
    "kernel": "Python3",
    "tags": [
     "report_cell"
    ]
   },
   "outputs": [
    {
     "ename": "ImportError",
     "evalue": "cannot import name 'as_file' from 'importlib.resources' (/Users/julie/opt/anaconda3/lib/python3.8/importlib/resources.py)",
     "output_type": "error",
     "traceback": [
      "\u001b[0;31m---------------------------------------------------------------------------\u001b[0m",
      "\u001b[0;31mImportError\u001b[0m                               Traceback (most recent call last)",
      "Cell \u001b[0;32mIn[1], line 8\u001b[0m\n\u001b[1;32m      6\u001b[0m \u001b[38;5;28;01mfrom\u001b[39;00m \u001b[38;5;21;01msklearn\u001b[39;00m\u001b[38;5;21;01m.\u001b[39;00m\u001b[38;5;21;01mlinear_model\u001b[39;00m \u001b[38;5;28;01mimport\u001b[39;00m LinearRegression\n\u001b[1;32m      7\u001b[0m \u001b[38;5;28;01mimport\u001b[39;00m \u001b[38;5;21;01mstatsmodels\u001b[39;00m\u001b[38;5;21;01m.\u001b[39;00m\u001b[38;5;21;01mformula\u001b[39;00m\u001b[38;5;21;01m.\u001b[39;00m\u001b[38;5;21;01mapi\u001b[39;00m \u001b[38;5;28;01mas\u001b[39;00m \u001b[38;5;21;01msm\u001b[39;00m\n\u001b[0;32m----> 8\u001b[0m \u001b[38;5;28;01mfrom\u001b[39;00m \u001b[38;5;21;01mISLP\u001b[39;00m \u001b[38;5;28;01mimport\u001b[39;00m load_data\n\u001b[1;32m      9\u001b[0m \u001b[38;5;28;01mfrom\u001b[39;00m \u001b[38;5;21;01mISLP\u001b[39;00m\u001b[38;5;21;01m.\u001b[39;00m\u001b[38;5;21;01mmodels\u001b[39;00m \u001b[38;5;28;01mimport\u001b[39;00m (ModelSpec \u001b[38;5;28;01mas\u001b[39;00m MS,\n\u001b[1;32m     10\u001b[0m                          summarize ,\n\u001b[1;32m     11\u001b[0m                          poly)\n",
      "File \u001b[0;32m~/opt/anaconda3/lib/python3.8/site-packages/ISLP/__init__.py:10\u001b[0m\n\u001b[1;32m      8\u001b[0m \u001b[38;5;28;01mfrom\u001b[39;00m \u001b[38;5;21;01mos\u001b[39;00m\u001b[38;5;21;01m.\u001b[39;00m\u001b[38;5;21;01mpath\u001b[39;00m \u001b[38;5;28;01mimport\u001b[39;00m join \u001b[38;5;28;01mas\u001b[39;00m pjoin\n\u001b[1;32m      9\u001b[0m \u001b[38;5;28;01mimport\u001b[39;00m \u001b[38;5;21;01mpandas\u001b[39;00m \u001b[38;5;28;01mas\u001b[39;00m \u001b[38;5;21;01mpd\u001b[39;00m\u001b[38;5;241m,\u001b[39m \u001b[38;5;21;01mnumpy\u001b[39;00m \u001b[38;5;28;01mas\u001b[39;00m \u001b[38;5;21;01mnp\u001b[39;00m\n\u001b[0;32m---> 10\u001b[0m \u001b[38;5;28;01mfrom\u001b[39;00m \u001b[38;5;21;01mimportlib\u001b[39;00m\u001b[38;5;21;01m.\u001b[39;00m\u001b[38;5;21;01mresources\u001b[39;00m \u001b[38;5;28;01mimport\u001b[39;00m (as_file,\n\u001b[1;32m     11\u001b[0m                                  files)\n\u001b[1;32m     13\u001b[0m \u001b[38;5;66;03m# data originally saved via: [sm.datasets.get_rdataset(n, 'ISLR').data.to_csv('../ISLP/data/%s.csv' % n, index=False) for n in ['Carseats', 'College', 'Credit', 'Default', 'Hitters', 'Auto', 'OJ', 'Portfolio', 'Smarket', 'Wage', 'Weekly', 'Caravan']]\u001b[39;00m\n\u001b[1;32m     15\u001b[0m \u001b[38;5;28;01mdef\u001b[39;00m \u001b[38;5;21mload_data\u001b[39m(dataset):\n",
      "\u001b[0;31mImportError\u001b[0m: cannot import name 'as_file' from 'importlib.resources' (/Users/julie/opt/anaconda3/lib/python3.8/importlib/resources.py)"
     ]
    }
   ],
   "source": [
    "import numpy as np\n",
    "import pandas as pd\n",
    "import math\n",
    "import statsmodels.api as sm\n",
    "from plotnine import *\n",
    "from sklearn.linear_model import LinearRegression\n",
    "import statsmodels.formula.api as sm\n",
    "# from ISLP import load_data\n",
    "# from ISLP.models import (ModelSpec as MS,\n",
    "#                          summarize ,\n",
    "#                          poly)"
   ]
  },
  {
   "cell_type": "markdown",
   "id": "d786799d",
   "metadata": {},
   "source": [
    "### Ames House Data"
   ]
  },
  {
   "cell_type": "code",
   "execution_count": 3,
   "id": "e1f933c5",
   "metadata": {
    "kernel": "Python3",
    "tags": [
     "report_cell"
    ]
   },
   "outputs": [],
   "source": [
    "ames_raw=pd.read_csv(\"ames_raw.csv\")"
   ]
  },
  {
   "cell_type": "markdown",
   "id": "837bd901",
   "metadata": {},
   "source": [
    "Let's revisit the AmesHousing data.  As we did in the previous class, I will split the data into before 2008 and after.  The data up to 2008 will be the training data and after 2008 will be the testing data."
   ]
  },
  {
   "cell_type": "code",
   "execution_count": 4,
   "id": "67c2a208",
   "metadata": {
    "kernel": "Python3",
    "tags": [
     "report_cell"
    ]
   },
   "outputs": [],
   "source": [
    "ames_raw_2009, ames_raw_2008= ames_raw.query('`Yr Sold`>=2008').copy(), ames_raw.query('`Yr Sold` <2008').copy()"
   ]
  },
  {
   "cell_type": "markdown",
   "id": "ae8516aa",
   "metadata": {},
   "source": [
    "* For the regression model fit, use bootstrap to compare the standard error estimates to the model based estimates.\n",
    "\n",
    "\n",
    "Your code:"
   ]
  },
  {
   "cell_type": "code",
   "execution_count": 35,
   "id": "5f2fafbb",
   "metadata": {
    "Rmd_chunk_options": "echo=TRUE",
    "kernel": "Python3",
    "tags": [
     "report_cell"
    ]
   },
   "outputs": [
    {
     "name": "stdout",
     "output_type": "stream",
     "text": [
      "                            OLS Regression Results                            \n",
      "==============================================================================\n",
      "Dep. Variable:              SalePrice   R-squared:                       0.542\n",
      "Model:                            OLS   Adj. R-squared:                  0.542\n",
      "Method:                 Least Squares   F-statistic:                     1559.\n",
      "Date:                Sat, 03 Feb 2024   Prob (F-statistic):          1.34e-225\n",
      "Time:                        18:44:45   Log-Likelihood:                -16289.\n",
      "No. Observations:                1319   AIC:                         3.258e+04\n",
      "Df Residuals:                    1317   BIC:                         3.259e+04\n",
      "Df Model:                           1                                         \n",
      "Covariance Type:            nonrobust                                         \n",
      "===============================================================================\n",
      "                  coef    std err          t      P>|t|      [0.025      0.975]\n",
      "-------------------------------------------------------------------------------\n",
      "const        1.047e+04   4645.796      2.254      0.024    1357.472    1.96e+04\n",
      "Gr Liv Area   114.3914      2.897     39.482      0.000     108.708     120.075\n",
      "==============================================================================\n",
      "Omnibus:                      212.168   Durbin-Watson:                   1.123\n",
      "Prob(Omnibus):                  0.000   Jarque-Bera (JB):             2374.698\n",
      "Skew:                           0.359   Prob(JB):                         0.00\n",
      "Kurtosis:                       9.534   Cond. No.                     4.84e+03\n",
      "==============================================================================\n",
      "\n",
      "Notes:\n",
      "[1] Standard Errors assume that the covariance matrix of the errors is correctly specified.\n",
      "[2] The condition number is large, 4.84e+03. This might indicate that there are\n",
      "strong multicollinearity or other numerical problems.\n",
      "1.4217965476074904e-14 2.8973249737423434\n"
     ]
    }
   ],
   "source": [
    "X_train = ames_raw_2008['Gr Liv Area']\n",
    "Y_train = ames_raw_2008['SalePrice']\n",
    "\n",
    "X_test = ames_raw_2009['Gr Liv Area']\n",
    "Y_test = ames_raw_2009['SalePrice']\n",
    "\n",
    "#Add constent value to X\n",
    "X_train_const = sm.add_constant(X_train)\n",
    "model = sm.OLS(Y_train, X_train_const)\n",
    "results = model.fit()\n",
    "\n",
    "B = 1000\n",
    "coef_estimate = np.zeros(B)\n",
    "for i in range(B):\n",
    "    #Random Slected from sample, with replacement\n",
    "    sample_indices = np.random.choice(\n",
    "        range(len(X_train)),size = len(X_train), replace = True)\n",
    "    #iloc used to select specific rows from the X_train_const\n",
    "    #on integer indices provided by the sample_indices array.\n",
    "    X_sample = X_train_const.iloc[sample_indices]\n",
    "    Y_sample = Y_train.iloc[sample_indices]\n",
    "\n",
    "    model_sample = sm.OLS(Y_sample, X_sample)\n",
    "    results_sample = model.fit()\n",
    "    \n",
    "    #params stored the parameters\n",
    "    #stored the ith second paratemers from results into the coef\n",
    "    coef_estimate[i] = results_sample.params[1]\n",
    "\n",
    "b_se = np.std(coef_estimate, ddof=1)\n",
    "original_se = results.bse[1]\n",
    "\n",
    "print(results.summary())\n",
    "\n",
    "print(b_se, original_se)\n"
   ]
  },
  {
   "cell_type": "markdown",
   "id": "c3e8bb5d",
   "metadata": {},
   "source": [
    "Your answer:\n",
    "\n",
    "~~~\n",
    "From the results above, we can see that the standard error from bootstrap is very small, almost 0, that means the coefficient generated from bootstrap is stable, is better than the oringinal standard error since the standard error of the original model is large, suggesting higher uncertainty in the coefficient.\n",
    "\n",
    "\n",
    "~~~\n",
    "\n",
    "\n",
    "* Use cross validation  to decide which model has a good predictive accuracy.  Does the result hold true for the prediction of future data?\n",
    "\n",
    "Your code:"
   ]
  },
  {
   "cell_type": "code",
   "execution_count": 8,
   "id": "2fa22fc7",
   "metadata": {
    "Rmd_chunk_options": "echo=TRUE",
    "kernel": "Python3",
    "tags": [
     "report_cell"
    ]
   },
   "outputs": [],
   "source": [
    "#\n",
    "#"
   ]
  },
  {
   "cell_type": "markdown",
   "id": "ee392923",
   "metadata": {},
   "source": [
    "Your answer:\n",
    "\n",
    "~~~\n",
    "Please write your answer in full sentences.\n",
    "\n",
    "\n",
    "~~~\n",
    "\n",
    "\n",
    "* Using `knn.reg` fit KNN regression model.  Use cross validation to decide which K to use.\n",
    "\n",
    "Your code:"
   ]
  },
  {
   "cell_type": "code",
   "execution_count": 9,
   "id": "54c21c64",
   "metadata": {
    "Rmd_chunk_options": "echo=TRUE",
    "kernel": "Python3",
    "tags": [
     "report_cell"
    ]
   },
   "outputs": [],
   "source": [
    "#\n",
    "#"
   ]
  },
  {
   "cell_type": "markdown",
   "id": "e116dea8",
   "metadata": {},
   "source": [
    "Your answer:\n",
    "\n",
    "~~~\n",
    "Please write your answer in full sentences.\n",
    "\n",
    "\n",
    "~~~\n",
    "\n",
    "\n",
    "* Which model performs better on your training data?  Which model performs better in your future prediction?\n",
    "\n",
    "Your code:"
   ]
  },
  {
   "cell_type": "code",
   "execution_count": 10,
   "id": "1b41a25c",
   "metadata": {
    "Rmd_chunk_options": "echo=TRUE",
    "kernel": "Python3",
    "tags": [
     "report_cell"
    ]
   },
   "outputs": [],
   "source": [
    "#\n",
    "#"
   ]
  },
  {
   "cell_type": "markdown",
   "id": "adf13891",
   "metadata": {},
   "source": [
    "Your answer:\n",
    "\n",
    "~~~\n",
    "Please write your answer in full sentences.\n",
    "\n",
    "\n",
    "~~~"
   ]
  },
  {
   "cell_type": "markdown",
   "id": "75b49db5",
   "metadata": {},
   "source": [
    "## Problem Set"
   ]
  },
  {
   "cell_type": "markdown",
   "id": "3e1e310f",
   "metadata": {},
   "source": [
    "### Bootstrap\n",
    "\n",
    "We will now investigate numerically the probability that a bootstrap sample of size n = 100 contains the jth observation. Here j = 4. We first create an array store with values that will subsequently\n",
    "be overwritten using the function np.empty(). We then repeatedly create bootstrap samples, and each time we record whether or not the fifth observation is contained in the bootstrap\n",
    "sample.\n",
    "\n",
    "We will investigate numerically the probability that a bootstrap sample of size n = 100 contains the jth observation. Here j = 4. We repeatedly create bootstrap samples, and each time\n",
    "we record whether or not the fourth observation is contained in the bootstrap sample.\n",
    "\n",
    "Here is the code to get you going"
   ]
  },
  {
   "cell_type": "code",
   "execution_count": 3,
   "id": "275e75fd",
   "metadata": {
    "Rmd_chunk_options": "echo =TRUE,eval=FALSE",
    "kernel": "Python3",
    "tags": [
     "report_cell"
    ]
   },
   "outputs": [
    {
     "data": {
      "text/plain": [
       "0.6362"
      ]
     },
     "execution_count": 3,
     "metadata": {},
     "output_type": "execute_result"
    }
   ],
   "source": [
    "rng = np.random.default_rng (10)\n",
    "store = np.empty (10000)\n",
    "for i in range (10000):\n",
    "    store[i] = np.sum(rng.choice(100, 100, replace=True) == 4) > 0\n",
    "\n",
    "\n",
    "np.mean(store)"
   ]
  },
  {
   "cell_type": "markdown",
   "id": "aa96d784",
   "metadata": {},
   "source": [
    "Comment on the results obtained.\n",
    "\n",
    "\n",
    "Your code:"
   ]
  },
  {
   "cell_type": "code",
   "execution_count": 12,
   "id": "73352cec",
   "metadata": {
    "Rmd_chunk_options": "echo=TRUE",
    "kernel": "Python3",
    "tags": [
     "report_cell"
    ]
   },
   "outputs": [],
   "source": [
    "#\n",
    "#"
   ]
  },
  {
   "cell_type": "markdown",
   "id": "ce1a4875",
   "metadata": {},
   "source": [
    "Your answer:\n",
    "\n",
    "~~~\n",
    "Please write your answer in full sentences.\n",
    "\n",
    "\n",
    "~~~"
   ]
  },
  {
   "cell_type": "markdown",
   "id": "ca9da176",
   "metadata": {},
   "source": [
    "### CV\n",
    "\n",
    "We will now perform cross-validation on a simulated data set.\n",
    "(a) Generate a simulated data set as follows:"
   ]
  },
  {
   "cell_type": "code",
   "execution_count": 13,
   "id": "269de067",
   "metadata": {
    "Rmd_chunk_options": "eval=FALSE, echo =TRUE",
    "kernel": "Python3",
    "tags": [
     "report_cell"
    ]
   },
   "outputs": [],
   "source": [
    "rng = np.random.default_rng(1)\n",
    "x = rng.normal(size=100)\n",
    "y = x - 2 * x**2 + rng.normal(size=100)"
   ]
  },
  {
   "cell_type": "markdown",
   "id": "a7051ad7",
   "metadata": {},
   "source": [
    "In this data set, what is n and what is p? Write out the model\n",
    "used to generate the data in equation form.\n",
    "\n",
    "\n",
    "Your code:"
   ]
  },
  {
   "cell_type": "code",
   "execution_count": 14,
   "id": "7e1e71c6",
   "metadata": {
    "Rmd_chunk_options": "echo=TRUE",
    "kernel": "Python3",
    "tags": [
     "report_cell"
    ]
   },
   "outputs": [],
   "source": [
    "#\n",
    "#"
   ]
  },
  {
   "cell_type": "markdown",
   "id": "48cab751",
   "metadata": {},
   "source": [
    "Your answer:\n",
    "\n",
    "~~~\n",
    "Please write your answer in full sentences.\n",
    "\n",
    "\n",
    "~~~\n",
    "\n",
    "\n",
    "(b) Create a scatterplot of X against Y . Comment on what you find.\n",
    "\n",
    "\n",
    "Your code:"
   ]
  },
  {
   "cell_type": "code",
   "execution_count": 15,
   "id": "3f195ab3",
   "metadata": {
    "Rmd_chunk_options": "echo=TRUE",
    "kernel": "Python3",
    "tags": [
     "report_cell"
    ]
   },
   "outputs": [],
   "source": [
    "#\n",
    "#"
   ]
  },
  {
   "cell_type": "markdown",
   "id": "ef692fff",
   "metadata": {},
   "source": [
    "Your answer:\n",
    "\n",
    "~~~\n",
    "Please write your answer in full sentences.\n",
    "\n",
    "\n",
    "~~~\n",
    "\n",
    "(c) Set a random seed, and then compute the LOOCV errors that result from fitting the following four models using least squares:\n",
    "\n",
    "i.   $Y = \\beta_0 + \\beta_1X + \\epsilon$\n",
    "ii.  $Y = \\beta_0 + \\beta_1X + \\beta_2X^2 + \\epsilon$\n",
    "iii. $Y = \\beta_0 + \\beta_1X + \\beta_2X^2 + \\beta_3X^3 + \\epsilon$\n",
    "iv.  $Y = \\beta_0 + \\beta_1X + \\beta_2X^2 + \\beta_3X^3 + \\beta_4X^4 + \\epsilon$.\n",
    "\n",
    "Note you may find it helpful to use the `data.frame()` function\n",
    "to create a single data set containing both $X$ and $Y$ .\n",
    "\n",
    "\n",
    "Your code:"
   ]
  },
  {
   "cell_type": "code",
   "execution_count": 16,
   "id": "45208594",
   "metadata": {
    "Rmd_chunk_options": "echo=TRUE",
    "kernel": "Python3",
    "tags": [
     "report_cell"
    ]
   },
   "outputs": [],
   "source": [
    "#\n",
    "#"
   ]
  },
  {
   "cell_type": "markdown",
   "id": "26dae8c9",
   "metadata": {},
   "source": [
    "Your answer:\n",
    "\n",
    "~~~\n",
    "Please write your answer in full sentences.\n",
    "\n",
    "\n",
    "~~~\n",
    "\n",
    "\n",
    "(d) Repeat (c) using another random seed, and report your results.\n",
    "Are your results the same as what you got in (c)? Why?\n",
    "\n",
    "Your code:"
   ]
  },
  {
   "cell_type": "code",
   "execution_count": 17,
   "id": "4fcf9ba9",
   "metadata": {
    "Rmd_chunk_options": "echo=TRUE",
    "kernel": "Python3",
    "tags": [
     "report_cell"
    ]
   },
   "outputs": [],
   "source": [
    "#\n",
    "#"
   ]
  },
  {
   "cell_type": "markdown",
   "id": "1b1c1120",
   "metadata": {},
   "source": [
    "Your answer:\n",
    "\n",
    "~~~\n",
    "Please write your answer in full sentences.\n",
    "\n",
    "\n",
    "~~~\n",
    "\n",
    "(e) Which of the models in (c) had the smallest LOOCV error? Is this what you expected? Explain your answer.\n",
    "\n",
    "Your code:"
   ]
  },
  {
   "cell_type": "code",
   "execution_count": 18,
   "id": "8ecfb45c",
   "metadata": {
    "Rmd_chunk_options": "echo=TRUE",
    "kernel": "Python3",
    "tags": [
     "report_cell"
    ]
   },
   "outputs": [],
   "source": [
    "#\n",
    "#"
   ]
  },
  {
   "cell_type": "markdown",
   "id": "6301a74c",
   "metadata": {},
   "source": [
    "Your answer:\n",
    "\n",
    "~~~\n",
    "Please write your answer in full sentences.\n",
    "\n",
    "\n",
    "~~~\n",
    "\n",
    "\n",
    "(f) Comment on the statistical significance of the coefficient estimates that results from fitting each of the models in (c) using least squares. Do these results agree with the conclusions drawn based on the cross-validation results?\n",
    "\n",
    "\n",
    "Your code:"
   ]
  },
  {
   "cell_type": "code",
   "execution_count": 19,
   "id": "d84ba43e",
   "metadata": {
    "Rmd_chunk_options": "echo=TRUE",
    "kernel": "Python3",
    "tags": [
     "report_cell"
    ]
   },
   "outputs": [],
   "source": [
    "#\n",
    "#"
   ]
  },
  {
   "cell_type": "markdown",
   "id": "26ea7d2f",
   "metadata": {},
   "source": [
    "Your answer:\n",
    "\n",
    "~~~\n",
    "Please write your answer in full sentences.\n",
    "\n",
    "\n",
    "~~~"
   ]
  },
  {
   "cell_type": "markdown",
   "id": "02963416",
   "metadata": {},
   "source": [
    "### Default 1\n",
    "\n",
    "In Chapter 4, we used logistic regression to predict the probability of default using income and balance on the `Default` data set. We will now estimate the test error of this logistic regression model using the validation set approach. Do not forget to set a random seed before beginning your analysis.\n",
    "\n",
    "(a) Fit a logistic regression model that uses income and balance to predict default.\n",
    "\n",
    "Your code:"
   ]
  },
  {
   "cell_type": "code",
   "execution_count": 20,
   "id": "75995a81",
   "metadata": {
    "Rmd_chunk_options": "echo=TRUE",
    "kernel": "Python3",
    "tags": [
     "report_cell"
    ]
   },
   "outputs": [],
   "source": [
    "#\n",
    "#"
   ]
  },
  {
   "cell_type": "markdown",
   "id": "4cf78636",
   "metadata": {},
   "source": [
    "Your answer:\n",
    "\n",
    "~~~\n",
    "Please write your answer in full sentences.\n",
    "\n",
    "\n",
    "~~~\n",
    "\n",
    "\n",
    "(b) Using the validation set approach, estimate the test error of this model. In order to do this, you must perform the following steps:\n",
    "\n",
    "i. Split the sample set into a training set and a validation set.\n",
    "\n",
    "Your code:"
   ]
  },
  {
   "cell_type": "code",
   "execution_count": 21,
   "id": "3b5e79ce",
   "metadata": {
    "Rmd_chunk_options": "echo=TRUE",
    "kernel": "Python3",
    "tags": [
     "report_cell"
    ]
   },
   "outputs": [],
   "source": [
    "#\n",
    "#"
   ]
  },
  {
   "cell_type": "markdown",
   "id": "1c1d6cd6",
   "metadata": {},
   "source": [
    "Your answer:\n",
    "\n",
    "~~~\n",
    "Please write your answer in full sentences.\n",
    "\n",
    "\n",
    "~~~\n",
    "\n",
    "ii. Fit a multiple logistic regression model using only the training observations.\n",
    "\n",
    "Your code:"
   ]
  },
  {
   "cell_type": "code",
   "execution_count": 22,
   "id": "4933acb7",
   "metadata": {
    "Rmd_chunk_options": "echo=TRUE",
    "kernel": "Python3",
    "tags": [
     "report_cell"
    ]
   },
   "outputs": [],
   "source": [
    "#\n",
    "#"
   ]
  },
  {
   "cell_type": "markdown",
   "id": "d0e17ef7",
   "metadata": {},
   "source": [
    "Your answer:\n",
    "\n",
    "~~~\n",
    "Please write your answer in full sentences.\n",
    "\n",
    "\n",
    "~~~\n",
    "\n",
    "\n",
    "iii. Obtain a prediction of default status for each individual in the validation set by computing the posterior probability of default for that individual, and classifying the individual to the default category if the posterior probability is greater than 0.5.\n",
    "\n",
    "\n",
    "Your code:"
   ]
  },
  {
   "cell_type": "code",
   "execution_count": 23,
   "id": "2337c08a",
   "metadata": {
    "Rmd_chunk_options": "echo=TRUE",
    "kernel": "Python3",
    "tags": [
     "report_cell"
    ]
   },
   "outputs": [],
   "source": [
    "#\n",
    "#"
   ]
  },
  {
   "cell_type": "markdown",
   "id": "05db2665",
   "metadata": {},
   "source": [
    "Your answer:\n",
    "\n",
    "~~~\n",
    "Please write your answer in full sentences.\n",
    "\n",
    "\n",
    "~~~\n",
    "\n",
    "\n",
    "iv. Compute the validation set error, which is the fraction of the observations in the validation set that are misclassified.\n",
    "\n",
    "Your code:"
   ]
  },
  {
   "cell_type": "code",
   "execution_count": 24,
   "id": "1b9bbe22",
   "metadata": {
    "Rmd_chunk_options": "echo=TRUE",
    "kernel": "Python3",
    "tags": [
     "report_cell"
    ]
   },
   "outputs": [],
   "source": [
    "#\n",
    "#"
   ]
  },
  {
   "cell_type": "markdown",
   "id": "3ea2e7e5",
   "metadata": {},
   "source": [
    "Your answer:\n",
    "\n",
    "~~~\n",
    "Please write your answer in full sentences.\n",
    "\n",
    "\n",
    "~~~\n",
    "\n",
    "\n",
    "(c) Repeat the process in (b) three times, using three different splits of the observations into a training set and a validation set. Comment on the results obtained.\n",
    "\n",
    "\n",
    "Your code:"
   ]
  },
  {
   "cell_type": "code",
   "execution_count": 25,
   "id": "021da8ff",
   "metadata": {
    "Rmd_chunk_options": "echo=TRUE",
    "kernel": "Python3",
    "tags": [
     "report_cell"
    ]
   },
   "outputs": [],
   "source": [
    "#\n",
    "#"
   ]
  },
  {
   "cell_type": "markdown",
   "id": "c2108a59",
   "metadata": {},
   "source": [
    "Your answer:\n",
    "\n",
    "~~~\n",
    "Please write your answer in full sentences.\n",
    "\n",
    "\n",
    "~~~\n",
    "\n",
    "\n",
    "(d) Now consider a logistic regression model that predicts the probability of default using income, balance, and a dummy variable for student. Estimate the test error for this model using the validation set approach. Comment on whether or not including a dummy variable for student leads to a reduction in the test error rate.\n",
    "\n",
    "\n",
    "Your code:"
   ]
  },
  {
   "cell_type": "code",
   "execution_count": 26,
   "id": "0087016a",
   "metadata": {
    "Rmd_chunk_options": "echo=TRUE",
    "kernel": "Python3",
    "tags": [
     "report_cell"
    ]
   },
   "outputs": [],
   "source": [
    "#\n",
    "#"
   ]
  },
  {
   "cell_type": "markdown",
   "id": "f2fb222e",
   "metadata": {},
   "source": [
    "Your answer:\n",
    "\n",
    "~~~\n",
    "Please write your answer in full sentences.\n",
    "\n",
    "\n",
    "~~~"
   ]
  },
  {
   "cell_type": "markdown",
   "id": "5eb2e117",
   "metadata": {},
   "source": [
    "### Default 2\n",
    "\n",
    "We continue to consider the use of a logistic regression model to\n",
    "predict the probability of default using income and balance on the\n",
    "Default data set. In particular, we will now compute estimates for the\n",
    "standard errors of the income and balance logistic regression coefficients\n",
    "in two different ways: (1) using the bootstrap, and (2) using the\n",
    "standard formula for computing the standard errors in the sm.GLM()\n",
    "function. Do not forget to set a random seed before beginning your\n",
    "analysis.\n",
    "\n",
    "(a) Using the `summarize()` and `sm.GLM()` functions, determine the\n",
    "estimated standard errors for the coefficients associated with\n",
    "income and balance in a multiple logistic regression model that\n",
    "uses both predictors.\n",
    "Your code:"
   ]
  },
  {
   "cell_type": "code",
   "execution_count": 27,
   "id": "c9e48b55",
   "metadata": {
    "Rmd_chunk_options": "echo=TRUE",
    "kernel": "Python3",
    "tags": [
     "report_cell"
    ]
   },
   "outputs": [],
   "source": [
    "#\n",
    "#"
   ]
  },
  {
   "cell_type": "markdown",
   "id": "7dabf728",
   "metadata": {},
   "source": [
    "Your answer:\n",
    "\n",
    "~~~\n",
    "Please write your answer in full sentences.\n",
    "\n",
    "\n",
    "~~~\n",
    "\n",
    "\n",
    "(b) Write a function, `boot_fn()`, that takes as input the Default data\n",
    "set as well as an index of the observations, and that outputs\n",
    "the coefficient estimates for income and balance in the multiple\n",
    "logistic regression model.\n",
    "\n",
    "Your code:"
   ]
  },
  {
   "cell_type": "code",
   "execution_count": 28,
   "id": "150d3446",
   "metadata": {
    "Rmd_chunk_options": "echo=TRUE",
    "kernel": "Python3",
    "tags": [
     "report_cell"
    ]
   },
   "outputs": [],
   "source": [
    "#\n",
    "#"
   ]
  },
  {
   "cell_type": "markdown",
   "id": "d2d9f690",
   "metadata": {},
   "source": [
    "Your answer:\n",
    "\n",
    "~~~\n",
    "Please write your answer in full sentences.\n",
    "\n",
    "\n",
    "~~~\n",
    "\n",
    "(c) Following the bootstrap example in the lab, use your `boot_fn()`\n",
    "function to estimate the standard errors of the logistic regression\n",
    "coefficients for income and balance.\n",
    "\n",
    "\n",
    "Your code:"
   ]
  },
  {
   "cell_type": "code",
   "execution_count": 29,
   "id": "771a1fca",
   "metadata": {
    "Rmd_chunk_options": "echo=TRUE",
    "kernel": "Python3",
    "tags": [
     "report_cell"
    ]
   },
   "outputs": [],
   "source": [
    "#\n",
    "#"
   ]
  },
  {
   "cell_type": "markdown",
   "id": "8b9f2e13",
   "metadata": {},
   "source": [
    "Your answer:\n",
    "\n",
    "~~~\n",
    "Please write your answer in full sentences.\n",
    "\n",
    "\n",
    "~~~\n",
    "\n",
    "\n",
    "(d) Comment on the estimated standard errors obtained using the `sm.GLM()` function and using the bootstrap.\n",
    "\n",
    "Your answer:\n",
    "\n",
    "~~~\n",
    "Please write your answer in full sentences.\n",
    "\n",
    "\n",
    "~~~"
   ]
  },
  {
   "cell_type": "markdown",
   "id": "d8e99194",
   "metadata": {},
   "source": [
    "### Boston housing data set\n",
    "\n",
    "We will now consider the Boston housing data set, from the ISLR library."
   ]
  },
  {
   "cell_type": "code",
   "execution_count": 30,
   "id": "3e0c713d",
   "metadata": {
    "kernel": "Python3",
    "tags": [
     "report_cell"
    ]
   },
   "outputs": [
    {
     "ename": "NameError",
     "evalue": "name 'load_data' is not defined",
     "output_type": "error",
     "traceback": [
      "\u001b[0;31m---------------------------------------------------------------------------\u001b[0m",
      "\u001b[0;31mNameError\u001b[0m                                 Traceback (most recent call last)",
      "Cell \u001b[0;32mIn[30], line 1\u001b[0m\n\u001b[0;32m----> 1\u001b[0m Boston \u001b[38;5;241m=\u001b[39m \u001b[43mload_data\u001b[49m(\u001b[38;5;124m\"\u001b[39m\u001b[38;5;124mBoston\u001b[39m\u001b[38;5;124m\"\u001b[39m)\n",
      "\u001b[0;31mNameError\u001b[0m: name 'load_data' is not defined"
     ]
    }
   ],
   "source": [
    "Boston = load_data(\"Boston\")"
   ]
  },
  {
   "cell_type": "markdown",
   "id": "3478a17a",
   "metadata": {},
   "source": [
    "(a) Based on this data set, provide an estimate for the population mean of medv. Call this estimate $\\hat{\\mu}$.\n",
    "\n",
    "Your code:"
   ]
  },
  {
   "cell_type": "code",
   "execution_count": null,
   "id": "7ac30b1b",
   "metadata": {
    "Rmd_chunk_options": "echo=TRUE",
    "kernel": "Python3",
    "tags": [
     "report_cell"
    ]
   },
   "outputs": [],
   "source": [
    "#\n",
    "#"
   ]
  },
  {
   "cell_type": "markdown",
   "id": "8c227ec3",
   "metadata": {},
   "source": [
    "Your answer:\n",
    "\n",
    "~~~\n",
    "Please write your answer in full sentences.\n",
    "\n",
    "\n",
    "~~~\n",
    "\n",
    "\n",
    "(b) Provide an estimate of the standard error of $\\hat{\\mu}$. Interpret this result.\n",
    "Hint: We can compute the standard error of the sample mean by dividing the sample standard deviation by the square root of the number of observations.\n",
    "\n",
    "Your code:"
   ]
  },
  {
   "cell_type": "code",
   "execution_count": null,
   "id": "1caaf8fc",
   "metadata": {
    "Rmd_chunk_options": "echo=TRUE",
    "kernel": "Python3",
    "tags": [
     "report_cell"
    ]
   },
   "outputs": [],
   "source": [
    "#\n",
    "#"
   ]
  },
  {
   "cell_type": "markdown",
   "id": "3446e733",
   "metadata": {},
   "source": [
    "Your answer:\n",
    "\n",
    "~~~\n",
    "Please write your answer in full sentences.\n",
    "\n",
    "\n",
    "~~~\n",
    "\n",
    "\n",
    "(c) Now estimate the standard error of $\\hat{\\mu}$ using the bootstrap. How does this compare to your answer from (b)?\n",
    "\n",
    "Your code:"
   ]
  },
  {
   "cell_type": "code",
   "execution_count": null,
   "id": "0c0a9cbf",
   "metadata": {
    "Rmd_chunk_options": "echo=TRUE",
    "kernel": "Python3",
    "tags": [
     "report_cell"
    ]
   },
   "outputs": [],
   "source": [
    "#\n",
    "#"
   ]
  },
  {
   "cell_type": "markdown",
   "id": "4bf56fb8",
   "metadata": {},
   "source": [
    "Your answer:\n",
    "\n",
    "~~~\n",
    "Please write your answer in full sentences.\n",
    "\n",
    "\n",
    "~~~\n",
    "\n",
    "(d) Based on your bootstrap estimate from (c), provide a 95 % confidence\n",
    "interval for the mean of medv. Compare it to the results\n",
    "obtained by using `Boston['medv'].std()` and the two standard\n",
    "error rule (3.9).\n",
    "Hint: You can approximate a 95% confidence interval using the formula $[\\hat{\\mu} − 2SE(\\hat{\\mu}), \\hat{\\mu} + 2SE(\\hat{\\mu})]$.\n",
    "\n",
    "Your code:"
   ]
  },
  {
   "cell_type": "code",
   "execution_count": null,
   "id": "59be24cc",
   "metadata": {
    "Rmd_chunk_options": "echo=TRUE",
    "kernel": "Python3",
    "tags": [
     "report_cell"
    ]
   },
   "outputs": [],
   "source": [
    "#\n",
    "#"
   ]
  },
  {
   "cell_type": "markdown",
   "id": "d16a99c5",
   "metadata": {},
   "source": [
    "Your answer:\n",
    "\n",
    "~~~\n",
    "Please write your answer in full sentences.\n",
    "\n",
    "\n",
    "~~~\n",
    "\n",
    "\n",
    "(e) Based on this data set, provide an estimate, $\\hat{\\mu}_{med}$, for the median value of medv in the population.\n",
    "\n",
    "Your code:"
   ]
  },
  {
   "cell_type": "code",
   "execution_count": null,
   "id": "ce645b44",
   "metadata": {
    "Rmd_chunk_options": "echo=TRUE",
    "kernel": "Python3",
    "tags": [
     "report_cell"
    ]
   },
   "outputs": [],
   "source": [
    "#\n",
    "#"
   ]
  },
  {
   "cell_type": "markdown",
   "id": "927aa002",
   "metadata": {},
   "source": [
    "Your answer:\n",
    "\n",
    "~~~\n",
    "Please write your answer in full sentences.\n",
    "\n",
    "\n",
    "~~~\n",
    "\n",
    "\n",
    "(f) We now would like to estimate the standard error of $\\hat{\\mu}_{med}$. Unfortunately, there is no simple formula for computing the standard error of the median. Instead, estimate the standard error of the median using the bootstrap. Comment on your findings.\n",
    "\n",
    "Your code:"
   ]
  },
  {
   "cell_type": "code",
   "execution_count": null,
   "id": "0221e97a",
   "metadata": {
    "Rmd_chunk_options": "echo=TRUE",
    "kernel": "Python3",
    "tags": [
     "report_cell"
    ]
   },
   "outputs": [],
   "source": [
    "#\n",
    "#"
   ]
  },
  {
   "cell_type": "markdown",
   "id": "3f90e963",
   "metadata": {},
   "source": [
    "Your answer:\n",
    "\n",
    "~~~\n",
    "Please write your answer in full sentences.\n",
    "\n",
    "\n",
    "~~~\n",
    "\n",
    "\n",
    "\n",
    "(g) Based on this data set, provide an estimate for the tenth percentile\n",
    "of medv in Boston census tracts. Call this quantity $\\hat{\\mu}_{0.1}$.\n",
    "(You can use the `np.percentile()` function.)\n",
    "\n",
    "Your code:"
   ]
  },
  {
   "cell_type": "code",
   "execution_count": null,
   "id": "dca83bcb",
   "metadata": {
    "Rmd_chunk_options": "echo=TRUE",
    "kernel": "Python3",
    "tags": [
     "report_cell"
    ]
   },
   "outputs": [],
   "source": [
    "#\n",
    "#"
   ]
  },
  {
   "cell_type": "markdown",
   "id": "3a298b56",
   "metadata": {},
   "source": [
    "Your answer:\n",
    "\n",
    "~~~\n",
    "Please write your answer in full sentences.\n",
    "\n",
    "\n",
    "~~~\n",
    "\n",
    "\n",
    "(h) Use the bootstrap to estimate the standard error of $\\hat{\\mu}_{0.1}$. Comment on your findings.\n",
    "\n",
    "Your code:"
   ]
  },
  {
   "cell_type": "code",
   "execution_count": null,
   "id": "56248d00",
   "metadata": {
    "Rmd_chunk_options": "echo=TRUE",
    "kernel": "Python3",
    "tags": [
     "report_cell"
    ]
   },
   "outputs": [],
   "source": [
    "#\n",
    "#"
   ]
  },
  {
   "cell_type": "markdown",
   "id": "1f070ead",
   "metadata": {},
   "source": [
    "Your answer:\n",
    "\n",
    "~~~\n",
    "Please write your answer in full sentences.\n",
    "\n",
    "\n",
    "~~~"
   ]
  },
  {
   "cell_type": "markdown",
   "id": "8f8173b4",
   "metadata": {},
   "source": [
    "## Additional Material"
   ]
  },
  {
   "cell_type": "markdown",
   "id": "8a6174ae",
   "metadata": {},
   "source": [
    "### Cross Validation for Predictive Modeling Platforms in Python"
   ]
  },
  {
   "cell_type": "markdown",
   "id": "fcfdcf96",
   "metadata": {},
   "source": [
    "#### scikit-learn\n",
    "\n",
    "Using platforms like scikit-learn is helpful for things such as cross validation.\n",
    "There are variants of CV implemented to be used off the shelf\n",
    "https://scikit-learn.org/stable/modules/cross_validation.html\n",
    "\n",
    "There are many metrics you can choose from\n",
    "https://scikit-learn.org/stable/modules/model_evaluation.html#scoring-parameter"
   ]
  },
  {
   "cell_type": "code",
   "execution_count": null,
   "id": "753aa0f5",
   "metadata": {
    "Rmd_chunk_options": "echo=TRUE",
    "kernel": "Python3",
    "tags": [
     "report_cell"
    ]
   },
   "outputs": [],
   "source": [
    "ames_raw_comp=ames_raw.loc[:,[\"SalePrice\",\"Gr Liv Area\",\"Lot Area\",\"Total Bsmt SF\"]].dropna()\n",
    "X=ames_raw_comp.loc[:,[\"Gr Liv Area\",\"Lot Area\",\"Total Bsmt SF\"]]\n",
    "y=ames_raw_comp.loc[:,\"SalePrice\"]\n",
    "from sklearn.model_selection import cross_val_score, cross_validate\n",
    "from sklearn import svm\n",
    "from sklearn.linear_model import LinearRegression\n",
    "clf =  LinearRegression()\n",
    "## One metric\n",
    "scores = cross_val_score(clf, X, y, cv=5,scoring=\"r2\")\n",
    "## Multiple metrics\n",
    "scoring = ['r2', 'max_error']\n",
    "scores = cross_validate(clf, X, y, scoring=scoring)"
   ]
  },
  {
   "cell_type": "markdown",
   "id": "e01a97f2",
   "metadata": {},
   "source": [
    "#### PySpark\n",
    "\n",
    "[Apache Spark](https://spark.apache.org/docs/3.1.3/api/python/index.html) is a popular large data handling platform.  Over the years, they built Machine Learning capabilities in MLlib."
   ]
  },
  {
   "cell_type": "code",
   "execution_count": null,
   "id": "ec5ea774",
   "metadata": {
    "Rmd_chunk_options": "eval=FALSE, echo=TRUE",
    "kernel": "Python3",
    "tags": [
     "report_cell"
    ]
   },
   "outputs": [],
   "source": [
    "import pyspark\n",
    "from pyspark.sql import SparkSession\n",
    "from pyspark.ml.classification import LogisticRegression\n",
    "from pyspark.ml.evaluation import BinaryClassificationEvaluator\n",
    "from pyspark.ml.linalg import Vectors\n",
    "from pyspark.ml.tuning import CrossValidator, ParamGridBuilder, CrossValidatorModel\n",
    "import tempfile"
   ]
  },
  {
   "cell_type": "code",
   "execution_count": null,
   "id": "77e1579c",
   "metadata": {
    "Rmd_chunk_options": "eval=FALSE, echo=TRUE",
    "kernel": "Python3",
    "tags": [
     "report_cell"
    ]
   },
   "outputs": [
    {
     "name": "stderr",
     "output_type": "stream",
     "text": [
      "Setting default log level to \"WARN\".\n",
      "To adjust logging level use sc.setLogLevel(newLevel). For SparkR, use setLogLevel(newLevel).\n",
      "24/01/11 21:04:13 WARN NativeCodeLoader: Unable to load native-hadoop library for your platform... using builtin-java classes where applicable\n"
     ]
    }
   ],
   "source": [
    "spark = SparkSession.builder.appName(\"CV_test\").getOrCreate()"
   ]
  },
  {
   "cell_type": "code",
   "execution_count": null,
   "id": "80457b98",
   "metadata": {
    "Rmd_chunk_options": "eval=FALSE, echo=TRUE",
    "kernel": "Python3",
    "tags": [
     "report_cell"
    ]
   },
   "outputs": [
    {
     "name": "stderr",
     "output_type": "stream",
     "text": [
      "24/01/11 21:04:28 WARN InstanceBuilder: Failed to load implementation from:dev.ludovic.netlib.blas.JNIBLAS\n",
      "                                                                                \r"
     ]
    },
    {
     "data": {
      "text/plain": [
       "0.8333333333333333"
      ]
     },
     "execution_count": 39,
     "metadata": {},
     "output_type": "execute_result"
    }
   ],
   "source": [
    "dataset = spark.createDataFrame(\n",
    "    [(Vectors.dense([0.0]), 0.0),\n",
    "     (Vectors.dense([0.4]), 1.0),\n",
    "     (Vectors.dense([0.5]), 0.0),\n",
    "     (Vectors.dense([0.6]), 1.0),\n",
    "     (Vectors.dense([1.0]), 1.0)] * 10,\n",
    "    [\"features\", \"label\"])\n",
    "lr = LogisticRegression()\n",
    "grid = ParamGridBuilder().addGrid(lr.maxIter, [0, 1]).build()\n",
    "evaluator = BinaryClassificationEvaluator()\n",
    "cv = CrossValidator(estimator=lr, estimatorParamMaps=grid, evaluator=evaluator,\n",
    "    parallelism=2)\n",
    "cvModel = cv.fit(dataset)\n",
    "cvModel.getNumFolds()\n",
    "cvModel.avgMetrics[0]\n",
    "evaluator.evaluate(cvModel.transform(dataset))"
   ]
  },
  {
   "cell_type": "code",
   "execution_count": null,
   "id": "0b8bf62f",
   "metadata": {
    "Rmd_chunk_options": "eval=FALSE, echo=TRUE",
    "kernel": "Python3",
    "tags": [
     "report_cell"
    ]
   },
   "outputs": [],
   "source": [
    "spark.stop()"
   ]
  },
  {
   "cell_type": "markdown",
   "id": "bc5ae714",
   "metadata": {},
   "source": [
    "#### Resampling  using h2o\n",
    "\n",
    "On H2O cross validation is embedded in the function calling so you don't need to worry about learning a new wrapper on top of your estimator.\n",
    "https://docs.h2o.ai/h2o/latest-stable/h2o-docs/cross-validation.html"
   ]
  },
  {
   "cell_type": "code",
   "execution_count": null,
   "id": "23d989a8",
   "metadata": {
    "Rmd_chunk_options": "eval=FALSE, echo=TRUE",
    "kernel": "Python3",
    "tags": [
     "report_cell"
    ]
   },
   "outputs": [],
   "source": [
    "#pip install requests\n",
    "#pip install tabulate\n",
    "#pip uninstall h2o\n",
    "#pip install -f http://h2o-release.s3.amazonaws.com/h2o/latest_stable_Py.html h2o\n",
    "# load packages and data\n",
    "import h2o\n",
    "from h2o.estimators.glm import H2OGeneralizedLinearEstimator"
   ]
  },
  {
   "cell_type": "markdown",
   "id": "6f467085",
   "metadata": {},
   "source": [
    "##### Starting H2O\n",
    "\n",
    "To use H2O you need to instantiate it."
   ]
  },
  {
   "cell_type": "code",
   "execution_count": null,
   "id": "3145b8ef",
   "metadata": {
    "Rmd_chunk_options": "eval=FALSE, echo=TRUE",
    "kernel": "Python3",
    "tags": [
     "report_cell"
    ]
   },
   "outputs": [
    {
     "name": "stdout",
     "output_type": "stream",
     "text": [
      "Checking whether there is an H2O instance running at http://localhost:54321..... not found.\n",
      "Attempting to start a local H2O server...\n",
      "  Java Version: java version \"1.8.0_361\"; Java(TM) SE Runtime Environment (build 1.8.0_361-b09); Java HotSpot(TM) 64-Bit Server VM (build 25.361-b09, mixed mode)\n",
      "  Starting server from /opt/homebrew/lib/python3.11/site-packages/h2o/backend/bin/h2o.jar\n",
      "  Ice root: /var/folders/r8/_9frrgnx0rq_kt6_r0yvgwlc0000gn/T/tmpbl2r93zb\n",
      "  JVM stdout: /var/folders/r8/_9frrgnx0rq_kt6_r0yvgwlc0000gn/T/tmpbl2r93zb/h2o_masanaoyajima_started_from_python.out\n",
      "  JVM stderr: /var/folders/r8/_9frrgnx0rq_kt6_r0yvgwlc0000gn/T/tmpbl2r93zb/h2o_masanaoyajima_started_from_python.err\n",
      "  Server is running at http://127.0.0.1:54321\n",
      "Connecting to H2O server at http://127.0.0.1:54321 ... successful.\n"
     ]
    },
    {
     "data": {
      "text/html": [
       "\n",
       "<style>\n",
       "\n",
       "#h2o-table-1.h2o-container {\n",
       "  overflow-x: auto;\n",
       "}\n",
       "#h2o-table-1 .h2o-table {\n",
       "  /* width: 100%; */\n",
       "  margin-top: 1em;\n",
       "  margin-bottom: 1em;\n",
       "}\n",
       "#h2o-table-1 .h2o-table caption {\n",
       "  white-space: nowrap;\n",
       "  caption-side: top;\n",
       "  text-align: left;\n",
       "  /* margin-left: 1em; */\n",
       "  margin: 0;\n",
       "  font-size: larger;\n",
       "}\n",
       "#h2o-table-1 .h2o-table thead {\n",
       "  white-space: nowrap; \n",
       "  position: sticky;\n",
       "  top: 0;\n",
       "  box-shadow: 0 -1px inset;\n",
       "}\n",
       "#h2o-table-1 .h2o-table tbody {\n",
       "  overflow: auto;\n",
       "}\n",
       "#h2o-table-1 .h2o-table th,\n",
       "#h2o-table-1 .h2o-table td {\n",
       "  text-align: right;\n",
       "  /* border: 1px solid; */\n",
       "}\n",
       "#h2o-table-1 .h2o-table tr:nth-child(even) {\n",
       "  /* background: #F5F5F5 */\n",
       "}\n",
       "\n",
       "</style>      \n",
       "<div id=\"h2o-table-1\" class=\"h2o-container\">\n",
       "  <table class=\"h2o-table\">\n",
       "    <caption></caption>\n",
       "    <thead></thead>\n",
       "    <tbody><tr><td>H2O_cluster_uptime:</td>\n",
       "<td>03 secs</td></tr>\n",
       "<tr><td>H2O_cluster_timezone:</td>\n",
       "<td>America/New_York</td></tr>\n",
       "<tr><td>H2O_data_parsing_timezone:</td>\n",
       "<td>UTC</td></tr>\n",
       "<tr><td>H2O_cluster_version:</td>\n",
       "<td>3.44.0.3</td></tr>\n",
       "<tr><td>H2O_cluster_version_age:</td>\n",
       "<td>22 days</td></tr>\n",
       "<tr><td>H2O_cluster_name:</td>\n",
       "<td>H2O_from_python_masanaoyajima_gs7xs1</td></tr>\n",
       "<tr><td>H2O_cluster_total_nodes:</td>\n",
       "<td>1</td></tr>\n",
       "<tr><td>H2O_cluster_free_memory:</td>\n",
       "<td>3.529 Gb</td></tr>\n",
       "<tr><td>H2O_cluster_total_cores:</td>\n",
       "<td>10</td></tr>\n",
       "<tr><td>H2O_cluster_allowed_cores:</td>\n",
       "<td>10</td></tr>\n",
       "<tr><td>H2O_cluster_status:</td>\n",
       "<td>locked, healthy</td></tr>\n",
       "<tr><td>H2O_connection_url:</td>\n",
       "<td>http://127.0.0.1:54321</td></tr>\n",
       "<tr><td>H2O_connection_proxy:</td>\n",
       "<td>{\"http\": null, \"https\": null}</td></tr>\n",
       "<tr><td>H2O_internal_security:</td>\n",
       "<td>False</td></tr>\n",
       "<tr><td>Python_version:</td>\n",
       "<td>3.11.3 final</td></tr></tbody>\n",
       "  </table>\n",
       "</div>\n"
      ],
      "text/plain": [
       "--------------------------  ------------------------------------\n",
       "H2O_cluster_uptime:         03 secs\n",
       "H2O_cluster_timezone:       America/New_York\n",
       "H2O_data_parsing_timezone:  UTC\n",
       "H2O_cluster_version:        3.44.0.3\n",
       "H2O_cluster_version_age:    22 days\n",
       "H2O_cluster_name:           H2O_from_python_masanaoyajima_gs7xs1\n",
       "H2O_cluster_total_nodes:    1\n",
       "H2O_cluster_free_memory:    3.529 Gb\n",
       "H2O_cluster_total_cores:    10\n",
       "H2O_cluster_allowed_cores:  10\n",
       "H2O_cluster_status:         locked, healthy\n",
       "H2O_connection_url:         http://127.0.0.1:54321\n",
       "H2O_connection_proxy:       {\"http\": null, \"https\": null}\n",
       "H2O_internal_security:      False\n",
       "Python_version:             3.11.3 final\n",
       "--------------------------  ------------------------------------"
      ]
     },
     "metadata": {},
     "output_type": "display_data"
    }
   ],
   "source": [
    "# nthreads specifies number of threads. -1 means use all the CPU cores.\n",
    "# max_mem_size specifies the maximum amount of RAM to use.\n",
    "localH2O= h2o.init(nthreads = -1, max_mem_size=\"4g\")"
   ]
  },
  {
   "cell_type": "markdown",
   "id": "b1b35a63",
   "metadata": {},
   "source": [
    "##### CV with  H2O"
   ]
  },
  {
   "cell_type": "code",
   "execution_count": null,
   "id": "70d69efa",
   "metadata": {
    "Rmd_chunk_options": "eval=FALSE, echo=TRUE",
    "kernel": "Python3",
    "tags": [
     "report_cell"
    ]
   },
   "outputs": [
    {
     "name": "stdout",
     "output_type": "stream",
     "text": [
      "Parse progress: |████████████████████████████████████████████████████████████████| (done) 100%\n",
      "glm Model Build progress: |██████████████████████████████████████████████████████| (done) 100%\n"
     ]
    },
    {
     "data": {
      "text/plain": [
       "0.7790697716207187"
      ]
     },
     "execution_count": 43,
     "metadata": {},
     "output_type": "execute_result"
    }
   ],
   "source": [
    "# Import the prostate dataset\n",
    "prostate = h2o.import_file(\"http://s3.amazonaws.com/h2o-public-test-data/smalldata/prostate/prostate.csv.zip\")\n",
    "\n",
    "# Set the predictor names and the response column name\n",
    "response = \"CAPSULE\"\n",
    "predictors = prostate.names[3:8]\n",
    "\n",
    "# Convert the response column to a factor\n",
    "prostate['CAPSULE'] = prostate['CAPSULE'].asfactor()\n",
    "\n",
    "# Train a GBM model setting nfolds to 5\n",
    "prostate_gbm = H2OGeneralizedLinearEstimator(nfolds = 5, seed = 1)\n",
    "prostate_gbm.train(x=predictors, y=response, training_frame=prostate)\n",
    "\n",
    "# AUC of cross-validated holdout predictions\n",
    "prostate_gbm.auc(xval=True)"
   ]
  },
  {
   "cell_type": "markdown",
   "id": "0515ba8c",
   "metadata": {},
   "source": [
    "##### Shut down H2O"
   ]
  },
  {
   "cell_type": "code",
   "execution_count": null,
   "id": "83132202",
   "metadata": {
    "Rmd_chunk_options": "eval=FALSE, echo=TRUE",
    "kernel": "Python3",
    "tags": [
     "report_cell"
    ]
   },
   "outputs": [
    {
     "name": "stdout",
     "output_type": "stream",
     "text": [
      "H2O session _sid_8dc7 closed.\n"
     ]
    }
   ],
   "source": [
    "h2o.cluster().shutdown(prompt =False)"
   ]
  }
 ],
 "metadata": {
  "Rmd_chunk_options": {
   "author": "Your Name Here",
   "date": "2024-1-30",
   "output": "html_document",
   "title": "Resampling"
  },
  "kernelspec": {
   "display_name": "Python 3 (ipykernel)",
   "language": "python",
   "name": "python3"
  },
  "language_info": {
   "codemirror_mode": {
    "name": "ipython",
    "version": 3
   },
   "file_extension": ".py",
   "mimetype": "text/x-python",
   "name": "python",
   "nbconvert_exporter": "python",
   "pygments_lexer": "ipython3",
   "version": "3.8.18"
  },
  "sos": {
   "kernels": [
    [
     "SoS",
     "sos",
     "",
     ""
    ],
    [
     "R",
     "ir",
     "",
     ""
    ],
    [
     "css",
     "css",
     "",
     ""
    ],
    [
     "Python3",
     "ir",
     "",
     ""
    ]
   ]
  }
 },
 "nbformat": 4,
 "nbformat_minor": 5
}
